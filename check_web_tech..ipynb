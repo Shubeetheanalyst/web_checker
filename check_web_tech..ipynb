{
 "cells": [
  {
   "cell_type": "markdown",
   "id": "b4d81024",
   "metadata": {},
   "source": [
    "# Liabraries"
   ]
  },
  {
   "cell_type": "code",
   "execution_count": 9,
   "id": "dde4ac56",
   "metadata": {},
   "outputs": [],
   "source": [
    "import requests\n",
    "from bs4 import BeautifulSoup"
   ]
  },
  {
   "cell_type": "code",
   "execution_count": 18,
   "id": "e29a39c2",
   "metadata": {},
   "outputs": [],
   "source": [
    "#Website\n",
    "url = \"https://www.fiverr.com/\""
   ]
  },
  {
   "cell_type": "code",
   "execution_count": 25,
   "id": "9ae5b5a5",
   "metadata": {},
   "outputs": [
    {
     "name": "stdout",
     "output_type": "stream",
     "text": [
      "CMS platform:  This web isn't allowed to extract the soup\n",
      "JavaScript libraries:  []\n"
     ]
    }
   ],
   "source": [
    "# Send a GET request to the URL and retrieve the HTML content\n",
    "response = requests.get(url)\n",
    "html = response.content\n",
    "    \n",
    "# Parse the HTML using BeautifulSoup\n",
    "soup = BeautifulSoup(html, 'html.parser')\n",
    "\n",
    "# Find the CMS platform used by the website\n",
    "cms = soup.find('meta', attrs={'name': 'generator'})\n",
    "if cms:\n",
    "    cms = cms['content']\n",
    "else:\n",
    "    cms = \"This web isn't allowed to extract the soup\"\n",
    "\n",
    "# Find the JavaScript libraries used by the website\n",
    "scripts = soup.find_all('script')\n",
    "libraries = []\n",
    "for script in scripts:\n",
    "    if script.has_attr('src'):\n",
    "        src = script['src']\n",
    "        if 'js' in src:\n",
    "            library = src.split('/')[-1].split('.')[0]\n",
    "            libraries.append(library)\n",
    "\n",
    "# Print the results\n",
    "print(\"CMS platform: \", cms)\n",
    "print(\"JavaScript libraries: \", libraries)"
   ]
  }
 ],
 "metadata": {
  "kernelspec": {
   "display_name": "Python 3 (ipykernel)",
   "language": "python",
   "name": "python3"
  },
  "language_info": {
   "codemirror_mode": {
    "name": "ipython",
    "version": 3
   },
   "file_extension": ".py",
   "mimetype": "text/x-python",
   "name": "python",
   "nbconvert_exporter": "python",
   "pygments_lexer": "ipython3",
   "version": "3.9.13"
  }
 },
 "nbformat": 4,
 "nbformat_minor": 5
}
